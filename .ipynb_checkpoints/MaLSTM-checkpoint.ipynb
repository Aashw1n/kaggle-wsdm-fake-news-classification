{
 "cells": [
  {
   "cell_type": "code",
   "execution_count": 1,
   "metadata": {},
   "outputs": [
    {
     "name": "stderr",
     "output_type": "stream",
     "text": [
      "Using TensorFlow backend.\n",
      "[nltk_data] Downloading package stopwords to C:\\Users\\Aashwin\n",
      "[nltk_data]     Ranjan\\AppData\\Roaming\\nltk_data...\n",
      "[nltk_data]   Package stopwords is already up-to-date!\n"
     ]
    }
   ],
   "source": [
    "from time import time\n",
    "import pandas as pd\n",
    "import numpy as np\n",
    "import itertools\n",
    "import re\n",
    "import datetime\n",
    "from gensim.models import KeyedVectors\n",
    "from nltk.corpus import stopwords\n",
    "import nltk\n",
    "from sklearn.model_selection import train_test_split\n",
    "import matplotlib.pyplot as plt\n",
    "import seaborn as sns\n",
    "from keras.preprocessing.sequence import pad_sequences\n",
    "from keras.models import Model\n",
    "from keras.layers import Input, Embedding, LSTM, Lambda\n",
    "import keras.backend as K\n",
    "from keras.optimizers import Adadelta\n",
    "from keras.callbacks import ModelCheckpoint\n",
    "nltk.download('stopwords')\n",
    "stopwords = stopwords.words('english')\n",
    "%load_ext autotime\n"
   ]
  },
  {
   "cell_type": "code",
   "execution_count": 2,
   "metadata": {},
   "outputs": [
    {
     "name": "stderr",
     "output_type": "stream",
     "text": [
      "b'Skipping line 7026: expected 8 fields, saw 9\\nSkipping line 44341: expected 8 fields, saw 9\\nSkipping line 58784: expected 8 fields, saw 10\\n'\n",
      "b'Skipping line 99101: expected 8 fields, saw 10\\nSkipping line 104716: expected 8 fields, saw 9\\nSkipping line 127866: expected 8 fields, saw 10\\n'\n",
      "b'Skipping line 140436: expected 8 fields, saw 9\\nSkipping line 152888: expected 8 fields, saw 11\\n'\n",
      "b'Skipping line 47254: expected 7 fields, saw 9\\n'\n"
     ]
    },
    {
     "name": "stdout",
     "output_type": "stream",
     "text": [
      "Preprocessing is Done!!\n"
     ]
    },
    {
     "name": "stderr",
     "output_type": "stream",
     "text": [
      "C:\\Conda\\lib\\site-packages\\ipykernel_launcher.py:87: FutureWarning: set_value is deprecated and will be removed in a future release. Please use .at[] or .iat[] accessors instead\n"
     ]
    },
    {
     "name": "stdout",
     "output_type": "stream",
     "text": [
      "Dataset Traversed!!\n",
      "Cell successfully compiled!\n",
      "time: 8min 3s\n"
     ]
    }
   ],
   "source": [
    "#Getting Data \n",
    "TRAIN_CSV = \"./train.csv\"\n",
    "TEST_CSV = \"./test.csv\"\n",
    "VALIDATE_CSV = \"./validataion.csv\"\n",
    "EMBEDDING_FILE = 'https://s3.amazonaws.com/dl4j-distribution/GoogleNews-vectors-negative300.bin.gz'\n",
    "\n",
    "\n",
    "#Loading Data\n",
    "train_df = pd.read_csv(TRAIN_CSV, error_bad_lines=False)\n",
    "test_df = pd.read_csv(TEST_CSV, error_bad_lines=False)\n",
    "validate_df=pd.read_csv(VALIDATE_CSV, error_bad_lines=False)\n",
    "\n",
    "stops = stopwords\n",
    "\n",
    "def textList(text):\n",
    "    ''' Pre process and convert texts to a list of words '''\n",
    "    text = str(text)\n",
    "    text = text.lower()\n",
    "\n",
    "    # Clean the text\n",
    "    text = re.sub(r\"[^A-Za-z0-9^,!.\\/'+-=]\", \" \", text)\n",
    "    text = re.sub(r\"what's\", \"what is \", text)\n",
    "    text = re.sub(r\"\\'s\", \" \", text)\n",
    "    text = re.sub(r\"\\'ve\", \" have \", text)\n",
    "    text = re.sub(r\"can't\", \"cannot \", text)\n",
    "    text = re.sub(r\"n't\", \" not \", text)\n",
    "    text = re.sub(r\"i'm\", \"i am \", text)\n",
    "    text = re.sub(r\"\\'re\", \" are \", text)\n",
    "    text = re.sub(r\"\\'d\", \" would \", text)\n",
    "    text = re.sub(r\"\\'ll\", \" will \", text)\n",
    "    text = re.sub(r\",\", \" \", text)\n",
    "    text = re.sub(r\"\\.\", \" \", text)\n",
    "    text = re.sub(r\"!\", \" ! \", text)\n",
    "    text = re.sub(r\"\\/\", \" \", text)\n",
    "    text = re.sub(r\"\\^\", \" ^ \", text)\n",
    "    text = re.sub(r\"\\+\", \" + \", text)\n",
    "    text = re.sub(r\"\\-\", \" - \", text)\n",
    "    text = re.sub(r\"\\=\", \" = \", text)\n",
    "    text = re.sub(r\"'\", \" \", text)\n",
    "    text = re.sub(r\"(\\d+)(k)\", r\"\\g<1>000\", text)\n",
    "    text = re.sub(r\":\", \" : \", text)\n",
    "    text = re.sub(r\" e g \", \" eg \", text)\n",
    "    text = re.sub(r\" b g \", \" bg \", text)\n",
    "    text = re.sub(r\" u s \", \" american \", text)\n",
    "    text = re.sub(r\"\\0s\", \"0\", text)\n",
    "    text = re.sub(r\" 9 11 \", \"911\", text)\n",
    "    text = re.sub(r\"e - mail\", \"email\", text)\n",
    "    text = re.sub(r\"j k\", \"jk\", text)\n",
    "    text = re.sub(r\"\\s{2,}\", \" \", text)\n",
    "\n",
    "    text = text.split()\n",
    "\n",
    "    return text\n",
    "\n",
    "\n",
    "print(\"Preprocessing is Done!!\")\n",
    "\n",
    "# Prepare embedding\n",
    "vocabulary = dict()\n",
    "inverse_vocabulary = ['<unk>']  # '<unk>' will never be used, it is only a placeholder for the [0, 0, ....0] embedding\n",
    "word2vec = KeyedVectors.load_word2vec_format(EMBEDDING_FILE, binary=True)\n",
    "\n",
    "title_cols = ['title1_en', 'title2_en']\n",
    "\n",
    "# Iterate over the questions only of the training test and validation datasets\n",
    "for dataset in [train_df, test_df,validate_df]:\n",
    "    for index, row in dataset.iterrows():\n",
    "\n",
    "        # Iterate through the text of both questions of the row\n",
    "        for title in title_cols:\n",
    "\n",
    "            t2n = []  \n",
    "            for word in textList(row[title]):\n",
    "\n",
    "                # Check for unwanted words\n",
    "                if word in stops and word not in word2vec.vocab:\n",
    "                    continue\n",
    "\n",
    "                if word not in vocabulary:\n",
    "                    vocabulary[word] = len(inverse_vocabulary)\n",
    "                    t2n.append(len(inverse_vocabulary))\n",
    "                    inverse_vocabulary.append(word)\n",
    "                else:\n",
    "                    t2n.append(vocabulary[word])\n",
    "\n",
    "            # Replace questions as word to question as number representation\n",
    "            dataset.set_value(index,title, t2n)\n",
    "            \n",
    "print(\"Dataset Traversed!!\")\n",
    "embedding_dim = 300\n",
    "embeddings = 1 * np.random.randn(len(vocabulary) + 1, embedding_dim)  # This will be the embedding matrix\n",
    "embeddings[0] = 0  # So that the padding will be ignored\n",
    "\n",
    "# Build the embedding matrix\n",
    "for word, index in vocabulary.items():\n",
    "    if word in word2vec.vocab:\n",
    "        embeddings[index] = word2vec.word_vec(word)\n",
    "\n",
    "del word2vec\n",
    "\n",
    "print(\"Cell successfully compiled!\")\n"
   ]
  },
  {
   "cell_type": "code",
   "execution_count": 32,
   "metadata": {},
   "outputs": [
    {
     "name": "stdout",
     "output_type": "stream",
     "text": [
      "Sequence length calculated!!\n",
      "Data prepared!!\n",
      "Labels converted to numpy!!\n",
      "Dataset constructed!!\n",
      "cell successfully compiled!!\n",
      "[0 1 0 ... 0 0 0]\n",
      "[0 1 0 ... 0 0 1]\n",
      "time: 3.96 s\n"
     ]
    }
   ],
   "source": [
    "max_seq_length = min(train_df.title1_en.map(lambda x: len(x)).max(),\n",
    "                     train_df.title2_en.map(lambda x: len(x)).max(),\n",
    "                     test_df.title1_en.map(lambda x: len(x)).max(),\n",
    "                     test_df.title2_en.map(lambda x: len(x)).max(),\n",
    "                     validate_df.title1_en.map(lambda x: len(x)).max(),\n",
    "                     validate_df.title2_en.map(lambda x: len(x)).max())\n",
    "    \n",
    "\n",
    "print(\"Sequence length calculated!!\")\n",
    "#Preparing training and validation\n",
    "validation_size = len(validate_df)\n",
    "training_size = len(train_df)\n",
    "X_train = train_df[title_cols]\n",
    "X_validation = validate_df[title_cols]\n",
    "#train_df.label = pd.factorize(train_df.label)[0]\n",
    "#validate_df.label = pd.factorize(validate_df.label)[0]\n",
    "Y_train = train_df['label']\n",
    "Y_validation = validate_df['label']\n",
    "\n",
    "print(\"Data prepared!!\")\n",
    "# Split to dicts\n",
    "X_train = {'left': X_train.title1_en, 'right': X_train.title2_en}\n",
    "X_validation = {'left': X_validation.title1_en, 'right': X_validation.title2_en}\n",
    "X_test = {'left': test_df.title1_en, 'right': test_df.title2_en}\n",
    "\n",
    "# Convert labels to their numpy representations\n",
    "Y_train = Y_train.values\n",
    "Y_validation = Y_validation.values\n",
    "\n",
    " \n",
    "\n",
    "print(\"Labels converted to numpy!!\")\n",
    "# Zero padding\n",
    "for dataset, side in itertools.product([X_train, X_validation], ['left', 'right']):\n",
    "    dataset[side] = pad_sequences(dataset[side], maxlen=max_seq_length)\n",
    "\n",
    "print(\"Dataset constructed!!\")\n",
    "# Make sure data aligns\n",
    "assert X_train['left'].shape == X_train['right'].shape\n",
    "assert len(X_train['left']) == len(Y_train)\n",
    "\n",
    "print(\"cell successfully compiled!!\")\n",
    "print(Y_train)\n",
    "print(Y_validation)\n"
   ]
  },
  {
   "cell_type": "code",
   "execution_count": 44,
   "metadata": {},
   "outputs": [
    {
     "name": "stderr",
     "output_type": "stream",
     "text": [
      "C:\\Conda\\lib\\site-packages\\ipykernel_launcher.py:44: UserWarning: The `nb_epoch` argument in `fit` has been renamed `epochs`.\n"
     ]
    },
    {
     "name": "stdout",
     "output_type": "stream",
     "text": [
      "Train on 192353 samples, validate on 64134 samples\n",
      "Epoch 1/7\n",
      "192353/192353 [==============================] - 2174s 11ms/step - loss: 0.2607 - acc: 0.7158 - val_loss: 0.5139 - val_acc: 0.2410\n",
      "Epoch 2/7\n",
      "192353/192353 [==============================] - 2172s 11ms/step - loss: 0.2333 - acc: 0.7473 - val_loss: 0.5236 - val_acc: 0.2250\n",
      "Epoch 3/7\n",
      "192353/192353 [==============================] - 2162s 11ms/step - loss: 0.2236 - acc: 0.7610 - val_loss: 0.5439 - val_acc: 0.2109\n",
      "Epoch 4/7\n",
      "192353/192353 [==============================] - 2232s 12ms/step - loss: 0.2167 - acc: 0.7717 - val_loss: 0.5387 - val_acc: 0.2074\n",
      "Epoch 5/7\n",
      "192353/192353 [==============================] - 2168s 11ms/step - loss: 0.2116 - acc: 0.7783 - val_loss: 0.5430 - val_acc: 0.2062\n",
      "Epoch 6/7\n",
      "192353/192353 [==============================] - 2224s 12ms/step - loss: 0.2075 - acc: 0.7834 - val_loss: 0.5800 - val_acc: 0.2010\n",
      "Epoch 7/7\n",
      "192353/192353 [==============================] - 2417s 13ms/step - loss: 0.2042 - acc: 0.7873 - val_loss: 0.5795 - val_acc: 0.2011\n",
      "Training time finished.\n",
      "7 epochs in 4:19:12.413083\n",
      "time: 4h 19min 13s\n"
     ]
    }
   ],
   "source": [
    "from keras.layers import Input\n",
    "\n",
    "# Model variables\n",
    "n_hidden = 50\n",
    "gradient_clipping_norm = 2\n",
    "batch_size = 64\n",
    "n_epoch = 7\n",
    "\n",
    "def exponent_neg_manhattan_distance(left, right):\n",
    "    ''' Helper function for the similarity estimate of the LSTMs outputs'''\n",
    "    return K.exp(-K.sum(K.abs(left-right), axis=1, keepdims=True))\n",
    "\n",
    "\n",
    "left_input = Input(shape=(max_seq_length,), dtype = 'float32' )\n",
    "right_input = Input(shape=(max_seq_length,), dtype = 'float32')\n",
    "\n",
    "embedding_layer = Embedding(len(embeddings), embedding_dim, weights=[embeddings], input_length=max_seq_length, trainable=False)\n",
    "\n",
    "# Embedded version of the inputs\n",
    "encoded_left = embedding_layer(left_input)\n",
    "encoded_right = embedding_layer(right_input)\n",
    "\n",
    "# Since this is a siamese network, both sides share the same LSTM\n",
    "shared_lstm = LSTM(n_hidden)\n",
    "\n",
    "left_output = shared_lstm(encoded_left)\n",
    "right_output = shared_lstm(encoded_right)\n",
    "\n",
    "# Calculates the distance as defined by the MaLSTM model\n",
    "malstm_distance = Lambda(function=lambda x: exponent_neg_manhattan_distance(x[0], x[1]),output_shape=lambda x: (x[0][0], 1))([left_output, right_output])\n",
    "\n",
    "# Pack it all up into a model\n",
    "malstm = Model([left_input, right_input], [malstm_distance])\n",
    "\n",
    "# Adadelta optimizer, with gradient clipping by norm\n",
    "optimizer = Adadelta(clipnorm=gradient_clipping_norm)\n",
    "\n",
    "malstm.compile(loss='mean_squared_error', optimizer=optimizer, metrics=['accuracy'])\n",
    "\n",
    "# Start training\n",
    "training_start_time = time()\n",
    "\n",
    "malstm_trained = malstm.fit([X_train['left'], X_train['right']], Y_train, batch_size=batch_size, nb_epoch=n_epoch,\n",
    "                            validation_data=([X_validation['left'], X_validation['right']], Y_validation))\n",
    "\n",
    "print(\"Training time finished.\\n{} epochs in {}\".format(n_epoch, datetime.timedelta(seconds=time()-training_start_time)))"
   ]
  },
  {
   "cell_type": "code",
   "execution_count": 55,
   "metadata": {},
   "outputs": [
    {
     "name": "stdout",
     "output_type": "stream",
     "text": [
      "Model Saved!\n",
      "__________________________________________________________________________________________________\n",
      "Layer (type)                    Output Shape         Param #     Connected to                     \n",
      "==================================================================================================\n",
      "input_5 (InputLayer)            (None, 500)          0                                            \n",
      "__________________________________________________________________________________________________\n",
      "input_6 (InputLayer)            (None, 500)          0                                            \n",
      "__________________________________________________________________________________________________\n",
      "embedding_7 (Embedding)         (None, 500, 300)     12611700    input_5[0][0]                    \n",
      "                                                                 input_6[0][0]                    \n",
      "__________________________________________________________________________________________________\n",
      "lstm_3 (LSTM)                   (None, 50)           70200       embedding_7[0][0]                \n",
      "                                                                 embedding_7[1][0]                \n",
      "__________________________________________________________________________________________________\n",
      "lambda_3 (Lambda)               (None, 1)            0           lstm_3[0][0]                     \n",
      "                                                                 lstm_3[1][0]                     \n",
      "==================================================================================================\n",
      "Total params: 12,681,900\n",
      "Trainable params: 70,200\n",
      "Non-trainable params: 12,611,700\n",
      "__________________________________________________________________________________________________\n",
      "[0.5139152548149347, 0.5236120273757852, 0.5439407640524009, 0.5387334242710791, 0.5429916134157049, 0.5799648247934069, 0.5795087886097523]\n",
      "[0.7158349492893568, 0.7472667439538847, 0.7609967091737689, 0.7716541982746058, 0.7783398231416971, 0.7834294240320373, 0.787318107857818]\n"
     ]
    },
    {
     "data": {
      "image/png": "[encoded data removed]",
      "text/plain": [
       "<Figure size 432x288 with 1 Axes>"
      ]
     },
     "metadata": {
      "needs_background": "light"
     },
     "output_type": "display_data"
    },
    {
     "data": {
      "image/png": "[encoded data removed]",
      "text/plain": [
       "<Figure size 432x288 with 1 Axes>"
      ]
     },
     "metadata": {
      "needs_background": "light"
     },
     "output_type": "display_data"
    },
    {
     "name": "stdout",
     "output_type": "stream",
     "text": [
      "time: 635 ms\n"
     ]
    }
   ],
   "source": [
    "\n",
    "from keras.models import load_model\n",
    "malstm.save('malstm.h5')\n",
    "print(\"Model Saved!\")\n",
    "malstm.summary()\n",
    "\n",
    "print(malstm_trained.history['val_loss'])\n",
    "print(malstm_trained.history['acc'])\n",
    "plt.plot(malstm_trained.history['acc'])\n",
    "plt.plot(malstm_trained.history['val_acc'])\n",
    "plt.title('Model Accuracy')\n",
    "plt.ylabel('Accuracy')\n",
    "plt.xlabel('Epoch')\n",
    "plt.legend(['Train', 'Validation'], loc='upper left')\n",
    "plt.show()\n",
    "\n",
    "# Plot loss\n",
    "plt.plot(malstm_trained.history['loss'])\n",
    "plt.plot(malstm_trained.history['val_loss'])\n",
    "plt.title('Model Loss')\n",
    "plt.ylabel('Loss')\n",
    "plt.xlabel('Epoch')\n",
    "plt.legend(['Train', 'Validation'], loc='upper right')\n",
    "plt.show()"
   ]
  },
  {
   "cell_type": "code",
   "execution_count": null,
   "metadata": {},
   "outputs": [],
   "source": []
  },
  {
   "cell_type": "code",
   "execution_count": null,
   "metadata": {},
   "outputs": [],
   "source": []
  }
 ],
 "metadata": {
  "kernelspec": {
   "display_name": "Python 3",
   "language": "python",
   "name": "python3"
  },
  "language_info": {
   "codemirror_mode": {
    "name": "ipython",
    "version": 3
   },
   "file_extension": ".py",
   "mimetype": "text/x-python",
   "name": "python",
   "nbconvert_exporter": "python",
   "pygments_lexer": "ipython3",
   "version": "3.7.1"
  }
 },
 "nbformat": 4,
 "nbformat_minor": 2
}
